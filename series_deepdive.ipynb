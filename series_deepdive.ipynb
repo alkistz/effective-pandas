{
 "cells": [
  {
   "cell_type": "code",
   "execution_count": 2,
   "id": "96786efb",
   "metadata": {},
   "outputs": [],
   "source": [
    "import pandas as pd\n",
    "\n",
    "url = 'https://github.com/mattharrison/datasets/raw/master/data/vehicles.csv.zip'\n",
    "\n",
    "df = pd.read_csv(url, dtype_backend='pyarrow', engine='pyarrow')\n",
    "city_mpg = df.city08\n",
    "highway_mpg = df.highway08"
   ]
  }
 ],
 "metadata": {
  "kernelspec": {
   "display_name": "effective-pandas",
   "language": "python",
   "name": "python3"
  },
  "language_info": {
   "codemirror_mode": {
    "name": "ipython",
    "version": 3
   },
   "file_extension": ".py",
   "mimetype": "text/x-python",
   "name": "python",
   "nbconvert_exporter": "python",
   "pygments_lexer": "ipython3",
   "version": "3.12.7"
  }
 },
 "nbformat": 4,
 "nbformat_minor": 5
}
