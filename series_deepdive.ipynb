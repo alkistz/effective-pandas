{
 "cells": [
  {
   "cell_type": "markdown",
   "id": "0070ad4e",
   "metadata": {},
   "source": [
    "# Series\n",
    "## Data import"
   ]
  },
  {
   "cell_type": "code",
   "execution_count": 1,
   "execution_count": 1,
   "id": "96786efb",
   "metadata": {},
   "outputs": [],
   "source": [
    "import pandas as pd\n",
    "\n",
    "url = \"https://github.com/mattharrison/datasets/raw/master/data/vehicles.csv.zip\"\n",
    "\n",
    "df = pd.read_csv(url, dtype_backend=\"pyarrow\", engine=\"pyarrow\")\n",
    "city_mpg = df.city08\n",
    "\n",
    "highway_mpg = df.highway08"
   ]
  },
  {
   "cell_type": "code",
   "execution_count": 2,
   "id": "ce0cb20f",
   "metadata": {},
   "outputs": [
    {
     "name": "stdout",
     "output_type": "stream",
     "text": [
      "0        22.0\n",
      "1        11.5\n",
      "2        28.0\n",
      "3        11.0\n",
      "4        20.0\n",
      "         ... \n",
      "41139    22.5\n",
      "41140    24.0\n",
      "41141    21.0\n",
      "41142    21.0\n",
      "41143    18.5\n",
      "Length: 41144, dtype: double[pyarrow]\n"
     ]
    }
   ],
   "source": [
    "# You can use the `+` operator to add two Series together.\n",
    "print((city_mpg + highway_mpg)/2)"
   ]
  },
  {
   "cell_type": "code",
   "execution_count": 3,
   "id": "4ba86d4a",
   "metadata": {},
   "outputs": [
    {
     "data": {
      "text/plain": [
       "0.1    13.0\n",
       "0.5    17.0\n",
       "0.9    24.0\n",
       "Name: city08, dtype: double[pyarrow]"
      ]
     },
     "execution_count": 3,
     "metadata": {},
     "output_type": "execute_result"
    }
   ],
   "source": [
    "# You can use the `quantile` method to get specific quantiles of a Series.\n",
    "city_mpg.quantile([.1, .5, .9])"
   ]
  },
  {
   "cell_type": "code",
   "execution_count": 4,
   "id": "3be601cc",
   "metadata": {},
   "outputs": [
    {
     "data": {
      "text/plain": [
       "24.965973167412017"
      ]
     },
     "execution_count": 4,
     "metadata": {},
     "output_type": "execute_result"
    }
   ],
   "source": [
    "city_mpg.gt(20).astype(\"int64[pyarrow]\").mul(100).mean()"
   ]
  },
  {
   "cell_type": "code",
   "execution_count": 5,
   "id": "87d272e0",
   "metadata": {},
   "outputs": [
    {
     "data": {
      "text/plain": [
       "10272"
      ]
     },
     "execution_count": 5,
     "metadata": {},
     "output_type": "execute_result"
    }
   ],
   "source": [
    "city_mpg.gt(20).sum()"
   ]
  },
  {
   "cell_type": "code",
   "execution_count": 6,
   "id": "7a13b5f6",
   "metadata": {},
   "outputs": [
    {
     "data": {
      "text/plain": [
       "18.369045304297103"
      ]
     },
     "execution_count": 6,
     "metadata": {},
     "output_type": "execute_result"
    }
   ],
   "source": [
    "city_mpg.agg('mean')"
   ]
  },
  {
   "cell_type": "code",
   "execution_count": 3,
   "id": "68fbd479",
   "metadata": {},
   "outputs": [
    {
     "data": {
      "application/vnd.microsoft.datawrangler.viewer.v0+json": {
       "columns": [
        {
         "name": "make",
         "rawType": "string[pyarrow]",
         "type": "unknown"
        },
        {
         "name": "count",
         "rawType": "int64[pyarrow]",
         "type": "unknown"
        }
       ],
       "ref": "081f93da-df41-4e35-9b02-319f30b84968",
       "rows": [
        [
         "Chevrolet",
         "4003"
        ],
        [
         "Ford",
         "3371"
        ],
        [
         "Dodge",
         "2583"
        ],
        [
         "GMC",
         "2494"
        ],
        [
         "Toyota",
         "2071"
        ],
        [
         "BMW",
         "1966"
        ],
        [
         "Mercedes-Benz",
         "1538"
        ],
        [
         "Nissan",
         "1471"
        ],
        [
         "Volkswagen",
         "1180"
        ],
        [
         "Mitsubishi",
         "1067"
        ],
        [
         "Porsche",
         "1053"
        ],
        [
         "Mazda",
         "1005"
        ],
        [
         "Audi",
         "1002"
        ],
        [
         "Honda",
         "1001"
        ],
        [
         "Jeep",
         "929"
        ],
        [
         "Pontiac",
         "893"
        ],
        [
         "Subaru",
         "885"
        ],
        [
         "Volvo",
         "810"
        ],
        [
         "Hyundai",
         "783"
        ],
        [
         "Chrysler",
         "726"
        ],
        [
         "Buick",
         "667"
        ],
        [
         "Kia",
         "612"
        ],
        [
         "Mercury",
         "609"
        ],
        [
         "Cadillac",
         "583"
        ],
        [
         "Plymouth",
         "526"
        ],
        [
         "Suzuki",
         "515"
        ],
        [
         "Lexus",
         "501"
        ],
        [
         "Jaguar",
         "469"
        ],
        [
         "Oldsmobile",
         "462"
        ],
        [
         "Isuzu",
         "434"
        ],
        [
         "Saab",
         "432"
        ],
        [
         "Infiniti",
         "411"
        ],
        [
         "MINI",
         "405"
        ],
        [
         "Acura",
         "347"
        ],
        [
         "Lincoln",
         "346"
        ],
        [
         "Saturn",
         "278"
        ],
        [
         "Ferrari",
         "229"
        ],
        [
         "Land Rover",
         "202"
        ],
        [
         "Rolls-Royce",
         "186"
        ],
        [
         "Eagle",
         "161"
        ],
        [
         "Aston Martin",
         "156"
        ],
        [
         "Geo",
         "147"
        ],
        [
         "Maserati",
         "136"
        ],
        [
         "Lamborghini",
         "128"
        ],
        [
         "Bentley",
         "127"
        ],
        [
         "Peugeot",
         "98"
        ],
        [
         "Scion",
         "84"
        ],
        [
         "Ram",
         "81"
        ],
        [
         "Tesla",
         "74"
        ],
        [
         "Fiat",
         "71"
        ]
       ],
       "shape": {
        "columns": 1,
        "rows": 136
       }
      },
      "text/plain": [
       "make\n",
       "Chevrolet                           4003\n",
       "Ford                                3371\n",
       "Dodge                               2583\n",
       "GMC                                 2494\n",
       "Toyota                              2071\n",
       "                                    ... \n",
       "Grumman Allied Industries              1\n",
       "Environmental Rsch and Devp Corp       1\n",
       "General Motors                         1\n",
       "Goldacre                               1\n",
       "Isis Imports Ltd                       1\n",
       "Name: count, Length: 136, dtype: int64[pyarrow]"
      ]
     },
     "execution_count": 3,
     "metadata": {},
     "output_type": "execute_result"
    }
   ],
   "source": [
    "make = df.make\n",
    "make.value_counts()\n"
   ]
  }
 ],
 "metadata": {
  "kernelspec": {
   "display_name": "effective-pandas",
   "language": "python",
   "name": "python3"
  },
  "language_info": {
   "codemirror_mode": {
    "name": "ipython",
    "version": 3
   },
   "file_extension": ".py",
   "mimetype": "text/x-python",
   "name": "python",
   "nbconvert_exporter": "python",
   "pygments_lexer": "ipython3",
   "version": "3.12.5"
  }
 },
 "nbformat": 4,
 "nbformat_minor": 5
}
