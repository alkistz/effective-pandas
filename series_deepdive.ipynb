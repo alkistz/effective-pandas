{
 "cells": [
  {
   "cell_type": "markdown",
   "id": "0070ad4e",
   "metadata": {},
   "source": [
    "# Series\n",
    "## Data import"
   ]
  },
  {
   "cell_type": "code",
   "execution_count": 1,
   "id": "96786efb",
   "metadata": {},
   "outputs": [],
   "source": [
    "import pandas as pd\n",
    "\n",
    "url = \"https://github.com/mattharrison/datasets/raw/master/data/vehicles.csv.zip\"\n",
    "\n",
    "df = pd.read_csv(url, dtype_backend=\"pyarrow\", engine=\"pyarrow\")\n",
    "city_mpg = df.city08\n",
    "\n",
    "highway_mpg = df.highway08"
   ]
  },
  {
   "cell_type": "code",
   "execution_count": 2,
   "id": "ce0cb20f",
   "metadata": {},
   "outputs": [
    {
     "name": "stdout",
     "output_type": "stream",
     "text": [
      "0        22.0\n",
      "1        11.5\n",
      "2        28.0\n",
      "3        11.0\n",
      "4        20.0\n",
      "         ... \n",
      "41139    22.5\n",
      "41140    24.0\n",
      "41141    21.0\n",
      "41142    21.0\n",
      "41143    18.5\n",
      "Length: 41144, dtype: double[pyarrow]\n"
     ]
    }
   ],
   "source": [
    "# You can use the `+` operator to add two Series together.\n",
    "print((city_mpg + highway_mpg)/2)"
   ]
  },
  {
   "cell_type": "code",
   "execution_count": 3,
   "id": "4ba86d4a",
   "metadata": {},
   "outputs": [
    {
     "data": {
      "text/plain": [
       "0.1    13.0\n",
       "0.5    17.0\n",
       "0.9    24.0\n",
       "Name: city08, dtype: double[pyarrow]"
      ]
     },
     "execution_count": 3,
     "metadata": {},
     "output_type": "execute_result"
    }
   ],
   "source": [
    "# You can use the `quantile` method to get specific quantiles of a Series.\n",
    "city_mpg.quantile([.1, .5, .9])"
   ]
  },
  {
   "cell_type": "code",
   "execution_count": 4,
   "id": "3be601cc",
   "metadata": {},
   "outputs": [
    {
     "data": {
      "text/plain": [
       "24.965973167412017"
      ]
     },
     "execution_count": 4,
     "metadata": {},
     "output_type": "execute_result"
    }
   ],
   "source": [
    "city_mpg.gt(20).astype(\"int64[pyarrow]\").mul(100).mean()"
   ]
  },
  {
   "cell_type": "code",
   "execution_count": 5,
   "id": "87d272e0",
   "metadata": {},
   "outputs": [
    {
     "data": {
      "text/plain": [
       "10272"
      ]
     },
     "execution_count": 5,
     "metadata": {},
     "output_type": "execute_result"
    }
   ],
   "source": [
    "city_mpg.gt(20).sum()"
   ]
  },
  {
   "cell_type": "code",
   "execution_count": 6,
   "id": "7a13b5f6",
   "metadata": {},
   "outputs": [
    {
     "data": {
      "text/plain": [
       "18.369045304297103"
      ]
     },
     "execution_count": 6,
     "metadata": {},
     "output_type": "execute_result"
    }
   ],
   "source": [
    "city_mpg.agg('mean')"
   ]
  },
  {
   "cell_type": "code",
   "execution_count": 8,
   "id": "675e5185",
   "metadata": {},
   "outputs": [
    {
     "data": {
      "text/plain": [
       "np.int64(206)"
      ]
     },
     "execution_count": 8,
     "metadata": {},
     "output_type": "execute_result"
    }
   ],
   "source": [
    "cyl = df.cylinders\n",
    "cyl.isna().sum()"
   ]
  },
  {
   "cell_type": "code",
   "execution_count": 9,
   "id": "cc63eedc",
   "metadata": {},
   "outputs": [
    {
     "data": {
      "text/plain": [
       "7138     Nissan\n",
       "7139     Toyota\n",
       "8143     Toyota\n",
       "8144       Ford\n",
       "8146       Ford\n",
       "          ...  \n",
       "34563     Tesla\n",
       "34564     Tesla\n",
       "34565     Tesla\n",
       "34566     Tesla\n",
       "34567     Tesla\n",
       "Name: make, Length: 206, dtype: string[pyarrow]"
      ]
     },
     "execution_count": 9,
     "metadata": {},
     "output_type": "execute_result"
    }
   ],
   "source": [
    "make = df.make\n",
    "missing = cyl.isna()\n",
    "\n",
    "make.loc[missing]\n"
   ]
  },
  {
   "cell_type": "markdown",
   "id": "f3098df5",
   "metadata": {},
   "source": [
    "## Exercises\n",
    "With a dataset of your choice:\n",
    "\n",
    "1. Create a series from a numeric column that has the value of 'high' if it is equal to or above the mean and 'low' if it is below the mean using .apply.\n",
    "2. Create a series from a numeric column that has the value of 'high' if it is equal to or above the mean and 'low' if it is below the mean using .case_when.\n",
    "3. Time the differences between the previous two solutions to see which is faster.\n",
    "4. Replace the missing values of a numeric series with the median value.\n",
    "5. Clip the values of a numeric series between to 10th and 90th percentiles.\n",
    "6. Using a categorical column, replace any value that is not in the top 5 most frequent values with 'Other'.\n",
    "7. Using a categorical column, replace any value that is not in the top 10 most frequent values with 'Other'.\n",
    "8. Make a function that takes a categorical series and a number (n) and returns a replace series that replaces any value not in the top n most frequent values with 'Other'.\n",
    "9. Using a numeric column, bin it into 10 groups with the same width.\n",
    "10. Using a numeric column, bin it into 10 groups that have equal-sized bins."
   ]
  },
  {
   "cell_type": "code",
   "execution_count": 13,
   "id": "774b10f1",
   "metadata": {},
   "outputs": [
    {
     "data": {
      "text/plain": [
       "0        high\n",
       "1         low\n",
       "2        high\n",
       "3         low\n",
       "4         low\n",
       "         ... \n",
       "41139    high\n",
       "41140    high\n",
       "41141     low\n",
       "41142     low\n",
       "41143     low\n",
       "Name: city08, Length: 41144, dtype: object"
      ]
     },
     "execution_count": 13,
     "metadata": {},
     "output_type": "execute_result"
    }
   ],
   "source": [
    "mpg_mean = city_mpg.mean()\n",
    "cond = city_mpg > mpg_mean\n",
    "\n",
    "city_mpg.case_when(caselist=[\n",
    "    (cond, \"high\"),\n",
    "    (pd.Series(True, index=city_mpg.index), 'low')\n",
    "])"
   ]
  },
  {
   "cell_type": "code",
   "execution_count": 14,
   "id": "65dcfedc",
   "metadata": {},
   "outputs": [
    {
     "data": {
      "text/plain": [
       "0        high\n",
       "1         low\n",
       "2        high\n",
       "3         low\n",
       "4         low\n",
       "         ... \n",
       "41139    high\n",
       "41140    high\n",
       "41141     low\n",
       "41142     low\n",
       "41143     low\n",
       "Name: city08, Length: 41144, dtype: object"
      ]
     },
     "execution_count": 14,
     "metadata": {},
     "output_type": "execute_result"
    }
   ],
   "source": [
    "def mean_comparison(val):\n",
    "    return 'high' if val >= mpg_mean else 'low'\n",
    "\n",
    "city_mpg.apply(mean_comparison)"
   ]
  },
  {
   "cell_type": "code",
   "execution_count": 15,
   "id": "ad4af983",
   "metadata": {},
   "outputs": [
    {
     "data": {
      "text/plain": [
       "0        19\n",
       "1        13\n",
       "2        23\n",
       "3        13\n",
       "4        17\n",
       "         ..\n",
       "41139    19\n",
       "41140    20\n",
       "41141    18\n",
       "41142    18\n",
       "41143    16\n",
       "Name: city08, Length: 41144, dtype: int64[pyarrow]"
      ]
     },
     "execution_count": 15,
     "metadata": {},
     "output_type": "execute_result"
    }
   ],
   "source": [
    "city_mpg.clip(lower=city_mpg.quantile(.1), upper=city_mpg.quantile(.9))"
   ]
  },
  {
   "cell_type": "code",
   "execution_count": 17,
   "id": "c48bc83d",
   "metadata": {},
   "outputs": [
    {
     "data": {
      "text/plain": [
       "0         (18.0, 20.0]\n",
       "1        (5.999, 13.0]\n",
       "2         (21.0, 24.0]\n",
       "3        (5.999, 13.0]\n",
       "4         (16.0, 17.0]\n",
       "             ...      \n",
       "41139     (18.0, 20.0]\n",
       "41140     (18.0, 20.0]\n",
       "41141     (17.0, 18.0]\n",
       "41142     (17.0, 18.0]\n",
       "41143     (15.0, 16.0]\n",
       "Name: city08, Length: 41144, dtype: category\n",
       "Categories (10, interval[float64, right]): [(5.999, 13.0] < (13.0, 14.0] < (14.0, 15.0] < (15.0, 16.0] ... (18.0, 20.0] < (20.0, 21.0] < (21.0, 24.0] < (24.0, 150.0]]"
      ]
     },
     "execution_count": 17,
     "metadata": {},
     "output_type": "execute_result"
    }
   ],
   "source": [
    "pd.qcut(city_mpg, 10)"
   ]
  }
 ],
 "metadata": {
  "kernelspec": {
   "display_name": "effective-pandas",
   "language": "python",
   "name": "python3"
  },
  "language_info": {
   "codemirror_mode": {
    "name": "ipython",
    "version": 3
   },
   "file_extension": ".py",
   "mimetype": "text/x-python",
   "name": "python",
   "nbconvert_exporter": "python",
   "pygments_lexer": "ipython3",
   "version": "3.12.5"
  }
 },
 "nbformat": 4,
 "nbformat_minor": 5
}
